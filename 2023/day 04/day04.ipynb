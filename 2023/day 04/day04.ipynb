{
  "cells": [
    {
      "cell_type": "markdown",
      "metadata": {
        "id": "NSaoPhHaHdSU"
      },
      "source": [
        "# Day 4"
      ]
    },
    {
      "cell_type": "code",
      "execution_count": null,
      "metadata": {
        "id": "dpUcJ-8HHdSY"
      },
      "outputs": [],
      "source": [
        "data = open(\n",
        "    '/content/drive/MyDrive/Colab Notebooks/AOC/2023/day4.txt',\n",
        "    'r').readlines()"
      ]
    },
    {
      "cell_type": "code",
      "execution_count": null,
      "metadata": {
        "id": "SFUuCyodHdSZ"
      },
      "outputs": [],
      "source": [
        "# data = \"\"\"\n",
        "# Card 1: 41 48 83 86 17 | 83 86  6 31 17  9 48 53\n",
        "# Card 2: 13 32 20 16 61 | 61 30 68 82 17 32 24 19\n",
        "# Card 3:  1 21 53 59 44 | 69 82 63 72 16 21 14  1\n",
        "# Card 4: 41 92 73 84 69 | 59 84 76 51 58  5 54 83\n",
        "# Card 5: 87 83 26 28 32 | 88 30 70 12 93 22 82 36\n",
        "# Card 6: 31 18 13 56 72 | 74 77 10 23 35 67 36 11\n",
        "# \"\"\".strip().splitlines()"
      ]
    },
    {
      "cell_type": "markdown",
      "metadata": {
        "id": "c0xHvf-8HdSa"
      },
      "source": [
        "## Part 1"
      ]
    },
    {
      "cell_type": "code",
      "execution_count": 7,
      "metadata": {
        "id": "BUVHztsoHdSb"
      },
      "outputs": [],
      "source": [
        "from typing import List\n",
        "\n",
        "def findTotalPoints(input: List[str]) -> int:\n",
        "    total = 0\n",
        "    for line in input:\n",
        "        l, r = line.split(\" | \")\n",
        "        winning = set(l.split(\": \")[1].strip().split())\n",
        "        current = r.strip().split()\n",
        "        matches = 0\n",
        "        for num in current:\n",
        "            if num in winning: matches += 1\n",
        "        points = 2**(matches-1) if matches > 0 else 0\n",
        "        total += points\n",
        "\n",
        "    return total"
      ]
    },
    {
      "cell_type": "code",
      "execution_count": 8,
      "metadata": {
        "colab": {
          "base_uri": "https://localhost:8080/"
        },
        "id": "z3Zy36qjI04I",
        "outputId": "af2cbc49-e017-48f8-b1ab-fd38c24dacb9"
      },
      "outputs": [
        {
          "data": {
            "text/plain": [
              "22488"
            ]
          },
          "execution_count": 8,
          "metadata": {},
          "output_type": "execute_result"
        }
      ],
      "source": [
        "findTotalPoints(data)"
      ]
    },
    {
      "cell_type": "markdown",
      "metadata": {
        "id": "_XA0yeIKHdSc"
      },
      "source": [
        "## Part 2"
      ]
    },
    {
      "cell_type": "code",
      "execution_count": 13,
      "metadata": {
        "id": "D_bkPd3WHdSe"
      },
      "outputs": [],
      "source": [
        "from collections import defaultdict\n",
        "\n",
        "def findTotalScratchcards(input: List[str]) -> int:\n",
        "    # Build index of winning cards and their won copies\n",
        "    windex = defaultdict(list)\n",
        "    q = []\n",
        "    cards = len(input)\n",
        "\n",
        "    for index, line in enumerate(input):\n",
        "        l, r = line.split(\" | \")\n",
        "        winning = set(l.split(\": \")[1].strip().split())\n",
        "        current = r.strip().split()\n",
        "        matches = 0\n",
        "        for num in current:\n",
        "            if num in winning: matches += 1\n",
        "        if matches > 0:\n",
        "            cards += matches\n",
        "            winning_cards = [x for x in range(index+1, index+1+matches)]\n",
        "            q.extend(winning_cards)\n",
        "            windex[index].extend(winning_cards)\n",
        "            # print(q)\n",
        "\n",
        "    while q:\n",
        "        # print(q)\n",
        "        index = q.pop()\n",
        "        cards += len(windex[index])\n",
        "        q.extend(windex[index])\n",
        "\n",
        "    return cards"
      ]
    },
    {
      "cell_type": "code",
      "execution_count": 14,
      "metadata": {
        "colab": {
          "base_uri": "https://localhost:8080/"
        },
        "id": "XDBl8DdrKrvd",
        "outputId": "45f17a12-d8de-447b-fa4c-73a7aa2f665f"
      },
      "outputs": [
        {
          "data": {
            "text/plain": [
              "7013204"
            ]
          },
          "execution_count": 14,
          "metadata": {},
          "output_type": "execute_result"
        }
      ],
      "source": [
        "findTotalScratchcards(data)"
      ]
    }
  ],
  "metadata": {
    "colab": {
      "provenance": []
    },
    "kernelspec": {
      "display_name": "Python 3",
      "language": "python",
      "name": "python3"
    },
    "language_info": {
      "codemirror_mode": {
        "name": "ipython",
        "version": 3
      },
      "file_extension": ".py",
      "mimetype": "text/x-python",
      "name": "python",
      "nbconvert_exporter": "python",
      "pygments_lexer": "ipython3",
      "version": "3.10.13"
    }
  },
  "nbformat": 4,
  "nbformat_minor": 0
}
